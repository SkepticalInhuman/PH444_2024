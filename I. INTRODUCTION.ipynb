{
 "cells": [
  {
   "cell_type": "markdown",
   "id": "3115c00f",
   "metadata": {},
   "source": [
    "# The Fields of a Charged Particle in Hyperbolic Motion \n",
    "# Joel Franklin; David J. Griffiths\n",
    "### This paper is divided into 5 sections \n",
    "* Section 1: Intro [Dhruv Dagwar 210260014]\n",
    "* Section 2: Electric field lines by Gauss law [Soham Mandal 210260052]\n",
    "* Section 3: Electric field lines correction in hyperbolic motion [Rahul Korram 210260040]\n",
    "* Section 4: Part A Calculating Lienard-Wiechert potential [Banothu Shiva 210260013]\n",
    "* Section 4: Part B Calculating Retard Potential [Ihsaan Hussain 210260021]\n",
    "* Section 5: Outro and Appendices and review of A. Zangwill, Modern Electrodynamics (Cambridge U.P., Cambridge, 2013), Sec. 20.3 [Dhruv Dagwar 210260014] \n",
    "* Reproduction of plots in jupyter notebook [Ihsaan Hussain 210260021]\n",
    "* Video merging and editing [Rahul Korram 210260040]"
   ]
  },
  {
   "cell_type": "markdown",
   "id": "535aa69b",
   "metadata": {},
   "source": [
    "## Introduction"
   ]
  },
  {
   "cell_type": "markdown",
   "id": "fdb738de",
   "metadata": {},
   "source": [
    "###  Hi, We are group no.7 and our project is about \n",
    "## \"The fields of a charged particle in hyperbolic motion\"\n",
    "### My name is Dhruv Dagwar (210260014) & I would be providing intro and outro for this research paper review."
   ]
  },
  {
   "cell_type": "markdown",
   "id": "ececaac1",
   "metadata": {},
   "source": [
    "### In special relativity, a particle of mass m subject to a constant force F undergoes “hyperbolic motion\". The particle flies in from infinity along (say) the z-axis, comes to rest at z(0)=b, and returns to infinity; its velocity approaches +-c assymptotically as t tends to +- infinity, Coz info cant travel faster than speed of light(c)."
   ]
  },
  {
   "cell_type": "markdown",
   "id": "9b5d7df9",
   "metadata": {},
   "source": [
    "### In this research paper we are going to see how this affects our Electric Field (E) , Magnetic Field (B) & Potential by diiferent mehods."
   ]
  }
 ],
 "metadata": {
  "kernelspec": {
   "display_name": "Python 3 (ipykernel)",
   "language": "python",
   "name": "python3"
  },
  "language_info": {
   "codemirror_mode": {
    "name": "ipython",
    "version": 3
   },
   "file_extension": ".py",
   "mimetype": "text/x-python",
   "name": "python",
   "nbconvert_exporter": "python",
   "pygments_lexer": "ipython3",
   "version": "3.11.5"
  }
 },
 "nbformat": 4,
 "nbformat_minor": 5
}
